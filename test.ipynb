{
 "cells": [
  {
   "cell_type": "code",
   "execution_count": 61,
   "metadata": {},
   "outputs": [],
   "source": [
    "from torchinfo import summary\n",
    "from fvcore.nn import FlopCountAnalysis\n",
    "from sklearn.metrics import roc_curve, auc, confusion_matrix, classification_report\n",
    "from lightning.pytorch import seed_everything\n",
    "import lightning as L\n",
    "import torch\n",
    "import seaborn as sns\n",
    "import numpy as np\n",
    "import json\n",
    "import argparse\n",
    "import matplotlib.pyplot as plt\n",
    "import scienceplots\n",
    "import os\n",
    "from model_modules import *\n",
    "from data_modules import *\n",
    "\n",
    "plt.style.use('science')"
   ]
  },
  {
   "cell_type": "code",
   "execution_count": 62,
   "metadata": {},
   "outputs": [
    {
     "name": "stdout",
     "output_type": "stream",
     "text": [
      "cuda:0\n"
     ]
    }
   ],
   "source": [
    "def load_ckpt(run_name, file_name):\n",
    "    ckpt_path = os.path.join(\"Satelite-Interference\",\n",
    "                             run_name, \"checkpoints\", file_name)\n",
    "    model = CNNAutoencoder.load_from_checkpoint(ckpt_path)\n",
    "    return model\n",
    "\n",
    "\n",
    "model = load_ckpt(run_name=\"fkkxz8eb\", file_name=\"cnn_ae_epoch=198-step=8955-val_acc=3.37.ckpt\")\n",
    "print(model.device)"
   ]
  },
  {
   "cell_type": "code",
   "execution_count": 63,
   "metadata": {},
   "outputs": [
    {
     "name": "stdout",
     "output_type": "stream",
     "text": [
      "<torch.utils.data.dataloader.DataLoader object at 0x7f373c1b54c0>\n"
     ]
    }
   ],
   "source": [
    "data_module = BaseDataModule(batch_size=128)\n",
    "data_module.setup(stage=\"test\")\n",
    "test_loader = data_module.test_dataloader()\n",
    "print(test_loader)"
   ]
  },
  {
   "cell_type": "code",
   "execution_count": 64,
   "metadata": {},
   "outputs": [],
   "source": [
    "def test_model(model, test_loader):\n",
    "    model.eval()\n",
    "    reconstruction_errors = []\n",
    "    all_true_labels = []\n",
    "\n",
    "    with torch.no_grad():\n",
    "        for batch in test_loader:\n",
    "            signal = batch['signal'].to(model.device)\n",
    "            spectrum = batch['spectrum'].to(model.device)\n",
    "            labels = batch['label'].cpu().numpy()\n",
    "\n",
    "            # Forward pass\n",
    "            recon_signal, recon_spectrum = model(signal, spectrum)\n",
    "\n",
    "            # Calculate combined reconstruction error\n",
    "            error_signal = torch.mean(\n",
    "                (recon_signal - signal)**2, dim=[1, 2]).cpu().numpy()\n",
    "            error_spectrum = torch.mean(\n",
    "                (recon_spectrum - spectrum)**2, dim=[1, 2]).cpu().numpy()\n",
    "            total_error = error_signal + error_spectrum\n",
    "\n",
    "            reconstruction_errors.extend(total_error)\n",
    "            all_true_labels.extend(labels)\n",
    "\n",
    "    reconstruction_errors = np.array(reconstruction_errors)\n",
    "    all_true_labels = np.array(all_true_labels)\n",
    "\n",
    "    # Calculate metrics\n",
    "    threshold = np.percentile(reconstruction_errors, 60)\n",
    "    predicted_labels = (reconstruction_errors > threshold).astype(int)\n",
    "\n",
    "    fpr, tpr, _ = roc_curve(all_true_labels, reconstruction_errors)\n",
    "    roc_auc_val = auc(fpr, tpr)\n",
    "\n",
    "    return {\n",
    "        'reconstruction_errors': reconstruction_errors,\n",
    "        'predicted_labels': predicted_labels,\n",
    "        'threshold': threshold,\n",
    "        'fpr': fpr,\n",
    "        'tpr': tpr,\n",
    "        'roc_auc': roc_auc_val,\n",
    "        'confusion_matrix': confusion_matrix(all_true_labels, predicted_labels),\n",
    "        'classification_report': classification_report(all_true_labels, predicted_labels,\n",
    "                                                       target_names=['Interference-free', 'Interference'])\n",
    "    }"
   ]
  },
  {
   "cell_type": "code",
   "execution_count": 65,
   "metadata": {},
   "outputs": [
    {
     "name": "stdout",
     "output_type": "stream",
     "text": [
      "reconstruction_errors \n",
      " [3.854537  2.6645334 4.4040747 ... 4.1425476 4.364685  6.0705104]\n",
      "predicted_labels \n",
      " [0 0 1 ... 1 1 1]\n",
      "threshold \n",
      " 4.123307609558106\n",
      "fpr \n",
      " [0.         0.         0.         ... 0.85168739 0.85168739 1.        ]\n",
      "tpr \n",
      " [0.00000000e+00 4.50856628e-04 1.84400361e-01 ... 9.99549143e-01\n",
      " 1.00000000e+00 1.00000000e+00]\n",
      "roc_auc \n",
      " 0.8906439441866724\n",
      "confusion_matrix \n",
      " [[1985  267]\n",
      " [ 697 1521]]\n",
      "classification_report \n",
      "                    precision    recall  f1-score   support\n",
      "\n",
      "Interference-free       0.74      0.88      0.80      2252\n",
      "     Interference       0.85      0.69      0.76      2218\n",
      "\n",
      "         accuracy                           0.78      4470\n",
      "        macro avg       0.80      0.78      0.78      4470\n",
      "     weighted avg       0.79      0.78      0.78      4470\n",
      "\n"
     ]
    }
   ],
   "source": [
    "result = test_model(model, test_loader)\n",
    "for key, value in result.items():\n",
    "    print(key, '\\n', value)"
   ]
  },
  {
   "cell_type": "code",
   "execution_count": 66,
   "metadata": {},
   "outputs": [
    {
     "data": {
      "image/png": "[encoded data removed]",
      "text/plain": [
       "<Figure size 350x262.5 with 1 Axes>"
      ]
     },
     "metadata": {},
     "output_type": "display_data"
    }
   ],
   "source": [
    "def plot_comparative_roc(results):\n",
    "    \"\"\"Plot ROC curve for CNN model\"\"\"\n",
    "    for model_name, metrics in results.items():\n",
    "        plt.plot(metrics['fpr'], metrics['tpr'],\n",
    "                 label=f'{model_name} (AUC = {metrics[\"roc_auc\"]:.2f})')\n",
    "\n",
    "    # plt.plot([0, 1], [0, 1], color='navy', lw=2,\n",
    "            #  linestyle='--', label='Random Guess')\n",
    "    # plt.xlim([-0.01, 1.0])\n",
    "    # plt.ylim([0.0, 1.05])\n",
    "    plt.xlabel('False Positive Rate')\n",
    "    plt.ylabel('True Positive Rate')\n",
    "    plt.title('ROC Curve')\n",
    "    plt.legend(loc=\"lower right\")\n",
    "    # plt.grid(True)\n",
    "    plt.show()\n",
    "\n",
    "plot_comparative_roc({'CNN AE': result})"
   ]
  },
  {
   "cell_type": "code",
   "execution_count": 72,
   "metadata": {},
   "outputs": [
    {
     "data": {
      "image/png": "[encoded data removed]",
      "text/plain": [
       "<Figure size 350x262.5 with 2 Axes>"
      ]
     },
     "metadata": {},
     "output_type": "display_data"
    }
   ],
   "source": [
    "import matplotlib.pyplot as plt\n",
    "import seaborn as sns\n",
    "import numpy as np\n",
    "\n",
    "def plot_comparative_confusion_matrices(results, normalize=True):\n",
    "    \"\"\"Plot normalized confusion matrices for CNN model.\"\"\"\n",
    "    for model_name, metrics in results.items():\n",
    "        cm = metrics['confusion_matrix']\n",
    "        \n",
    "        if normalize:\n",
    "            cm = cm.astype(np.float64) / cm.sum(axis=1, keepdims=True)  # Normalize by row (true class)\n",
    "\n",
    "        sns.heatmap(cm, annot=True, fmt=\".2f\" if normalize else \"d\", cmap='Blues',\n",
    "                    xticklabels=['Interference-free', 'Interference'],\n",
    "                    yticklabels=['Interference-free', 'Interference'])\n",
    "\n",
    "        plt.xlabel('Predicted')\n",
    "        plt.ylabel('Actual')\n",
    "        plt.title(f'{model_name} ($\\\\beta$={metrics[\"threshold\"]:.2f})')\n",
    "        plt.show()\n",
    "\n",
    "# Example usage:\n",
    "plot_comparative_confusion_matrices({'CNN AE': result})\n"
   ]
  }
 ],
 "metadata": {
  "kernelspec": {
   "display_name": "comfyui",
   "language": "python",
   "name": "python3"
  },
  "language_info": {
   "codemirror_mode": {
    "name": "ipython",
    "version": 3
   },
   "file_extension": ".py",
   "mimetype": "text/x-python",
   "name": "python",
   "nbconvert_exporter": "python",
   "pygments_lexer": "ipython3",
   "version": "3.12.8"
  }
 },
 "nbformat": 4,
 "nbformat_minor": 2
}
