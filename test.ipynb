{
 "cells": [
  {
   "cell_type": "code",
   "execution_count": 1,
   "metadata": {},
   "outputs": [],
   "source": [
    "from torchinfo import summary\n",
    "from fvcore.nn import FlopCountAnalysis\n",
    "from sklearn.metrics import roc_curve, auc, confusion_matrix, classification_report\n",
    "from lightning.pytorch import seed_everything\n",
    "import lightning as L\n",
    "import torch\n",
    "import seaborn as sns\n",
    "import numpy as np\n",
    "import json\n",
    "import argparse\n",
    "import matplotlib.pyplot as plt\n",
    "import scienceplots\n",
    "import os\n",
    "from model_modules import *\n",
    "from data_modules import *\n",
    "%load_ext autoreload\n",
    "%autoreload 2\n",
    "\n",
    "plt.style.use('science')"
   ]
  },
  {
   "cell_type": "code",
   "execution_count": 2,
   "metadata": {},
   "outputs": [
    {
     "name": "stdout",
     "output_type": "stream",
     "text": [
      "cuda:0\n"
     ]
    }
   ],
   "source": [
    "def load_ckpt(run_name, file_name):\n",
    "    ckpt_path = os.path.join(\"Satelite-Interference\",\n",
    "                             run_name, \"checkpoints\", file_name)\n",
    "    model = CNNVAE.load_from_checkpoint(ckpt_path)\n",
    "    return model\n",
    "\n",
    "\n",
    "model = load_ckpt(run_name=\"dqho97xp\",\n",
    "                  file_name=\"cnn_vae_epoch=223-step=20160-val_acc=0.02.ckpt\")\n",
    "print(model.device)"
   ]
  },
  {
   "cell_type": "code",
   "execution_count": 4,
   "metadata": {},
   "outputs": [
    {
     "name": "stdout",
     "output_type": "stream",
     "text": [
      "<torch.utils.data.dataloader.DataLoader object at 0x7f09cc7b6ed0>\n"
     ]
    }
   ],
   "source": [
    "data_module = BaseDataModule(batch_size=128)\n",
    "data_module.prepare_data()\n",
    "data_module.setup(stage=\"test\")\n",
    "test_loader = data_module.test_dataloader()\n",
    "print(test_loader)"
   ]
  },
  {
   "cell_type": "code",
   "execution_count": 5,
   "metadata": {},
   "outputs": [
    {
     "name": "stdout",
     "output_type": "stream",
     "text": [
      "tensor([[0.4286, 0.4260, 0.4196, 0.4077, 0.3909, 0.3731, 0.3596, 0.3520, 0.3462,\n",
      "         0.3361, 0.3180, 0.2925, 0.2663, 0.2500, 0.2491, 0.2586, 0.2702, 0.2798,\n",
      "         0.2863, 0.2886, 0.2831, 0.2657, 0.2333, 0.1891, 0.1536, 0.1627, 0.2150,\n",
      "         0.2755, 0.3266, 0.3653, 0.3920, 0.4073, 0.4110, 0.4035, 0.3872, 0.3687,\n",
      "         0.3575, 0.3584, 0.3666, 0.3729, 0.3720, 0.3645, 0.3548, 0.3488, 0.3488,\n",
      "         0.3527, 0.3560, 0.3552, 0.3482, 0.3343, 0.3151, 0.2965, 0.2887, 0.2981,\n",
      "         0.3192, 0.3399, 0.3520, 0.3529, 0.3443, 0.3316, 0.3226, 0.3237, 0.3335,\n",
      "         0.3448, 0.3505, 0.3472, 0.3349, 0.3168, 0.2997, 0.2926, 0.3026, 0.3281,\n",
      "         0.3591, 0.3858, 0.4020, 0.4061, 0.3995, 0.3861, 0.3712, 0.3596, 0.3547,\n",
      "         0.3581, 0.3688, 0.3820, 0.3915, 0.3924, 0.3830, 0.3655, 0.3480, 0.3437,\n",
      "         0.3611, 0.3937, 0.4278, 0.4538, 0.4672, 0.4670, 0.4539, 0.4308, 0.4030,\n",
      "         0.3782, 0.3633, 0.3589, 0.3587, 0.3561, 0.3482, 0.3364, 0.3253, 0.3203,\n",
      "         0.3244, 0.3376, 0.3580, 0.3823, 0.4057, 0.4235, 0.4321, 0.4302, 0.4187,\n",
      "         0.4017, 0.3858, 0.3773, 0.3768, 0.3793, 0.3781, 0.3694, 0.3527, 0.3301,\n",
      "         0.3051, 0.2809, 0.2600, 0.2449, 0.2391, 0.2430, 0.2520, 0.2612, 0.2694,\n",
      "         0.2790, 0.2922, 0.3088, 0.3278, 0.3490, 0.3718, 0.3943, 0.4130, 0.4248,\n",
      "         0.4279, 0.4217, 0.4065, 0.3830, 0.3533, 0.3219, 0.2963, 0.2839, 0.2858,\n",
      "         0.2960, 0.3075, 0.3172, 0.3273, 0.3422, 0.3628, 0.3848, 0.4026, 0.4149,\n",
      "         0.4262, 0.4433, 0.4688, 0.4975, 0.5224, 0.5393, 0.5467, 0.5448, 0.5339,\n",
      "         0.5142, 0.4870, 0.4576, 0.4380, 0.4410, 0.4651, 0.4964, 0.5250, 0.5479,\n",
      "         0.5656, 0.5786, 0.5860, 0.5866, 0.5807, 0.5720, 0.5676, 0.5730, 0.5868,\n",
      "         0.6024, 0.6140, 0.6188, 0.6167, 0.6091, 0.5985, 0.5873, 0.5782, 0.5737,\n",
      "         0.5761, 0.5848, 0.5956, 0.6016, 0.5970, 0.5797, 0.5542, 0.5356, 0.5413,\n",
      "         0.5680, 0.5962, 0.6134, 0.6170, 0.6110, 0.6051, 0.6099, 0.6279, 0.6501,\n",
      "         0.6661, 0.6689, 0.6557, 0.6260, 0.5831, 0.5381, 0.5118, 0.5167, 0.5418,\n",
      "         0.5709, 0.5967, 0.6166, 0.6297, 0.6361, 0.6381, 0.6399, 0.6448, 0.6520,\n",
      "         0.6579, 0.6602, 0.6605, 0.6636, 0.6731, 0.6875, 0.7020, 0.7123, 0.7170,\n",
      "         0.7162, 0.7113, 0.7033, 0.6927, 0.6798, 0.6656, 0.6520, 0.6431, 0.6432,\n",
      "         0.6526, 0.6671, 0.6812, 0.6919, 0.6986, 0.7019, 0.7022, 0.7001, 0.6977,\n",
      "         0.7002, 0.7123, 0.7333, 0.7561, 0.7732, 0.7809, 0.7788, 0.7699, 0.7579,\n",
      "         0.7457, 0.7334, 0.7197, 0.7054, 0.6943, 0.6909, 0.6945, 0.6999, 0.7024,\n",
      "         0.7012, 0.6990, 0.6980, 0.6981, 0.6974, 0.6963, 0.6985, 0.7079, 0.7229,\n",
      "         0.7369, 0.7434, 0.7394, 0.7260, 0.7088, 0.6963, 0.6947, 0.7035, 0.7173,\n",
      "         0.7318, 0.7456, 0.7583, 0.7701, 0.7802, 0.7879, 0.7924, 0.7931, 0.7901,\n",
      "         0.7840, 0.7761, 0.7667, 0.7548, 0.7387, 0.7196, 0.7051, 0.7061, 0.7242,\n",
      "         0.7483, 0.7666, 0.7743, 0.7722, 0.7646, 0.7572, 0.7541, 0.7556, 0.7594,\n",
      "         0.7624, 0.7621, 0.7572, 0.7474, 0.7343, 0.7212, 0.7122, 0.7088, 0.7083,\n",
      "         0.7059, 0.6977, 0.6829, 0.6647, 0.6490, 0.6419, 0.6452, 0.6568, 0.6718,\n",
      "         0.6848, 0.6912, 0.6886, 0.6789, 0.6677, 0.6618, 0.6623, 0.6633, 0.6577,\n",
      "         0.6422, 0.6174, 0.5872, 0.5578, 0.5377, 0.5371, 0.5605, 0.5994, 0.6408,\n",
      "         0.6769, 0.7046, 0.7237, 0.7355, 0.7418, 0.7456, 0.7496, 0.7546, 0.7588,\n",
      "         0.7591, 0.7541, 0.7455, 0.7385, 0.7390, 0.7480, 0.7611, 0.7730, 0.7803,\n",
      "         0.7822, 0.7784, 0.7685, 0.7521, 0.7295, 0.7026, 0.6750, 0.6504, 0.6305,\n",
      "         0.6138, 0.5985, 0.5846, 0.5761, 0.5803, 0.6026, 0.6395, 0.6808, 0.7175,\n",
      "         0.7444, 0.7588, 0.7591, 0.7439, 0.7118, 0.6633, 0.6078, 0.5770, 0.5987,\n",
      "         0.6458, 0.6858, 0.7097, 0.7193, 0.7196, 0.7159, 0.7114, 0.7059, 0.6973,\n",
      "         0.6846, 0.6693, 0.6547, 0.6444, 0.6400, 0.6419, 0.6494, 0.6605, 0.6717,\n",
      "         0.6790, 0.6797, 0.6738, 0.6654, 0.6625, 0.6729, 0.6960, 0.7241, 0.7498,\n",
      "         0.7689, 0.7800, 0.7826, 0.7763, 0.7622, 0.7446, 0.7327, 0.7363, 0.7545,\n",
      "         0.7765, 0.7924, 0.7968, 0.7882, 0.7667, 0.7339, 0.6924, 0.6480, 0.6103,\n",
      "         0.5905, 0.5937, 0.6155, 0.6480, 0.6854, 0.7248, 0.7648, 0.8031, 0.8361,\n",
      "         0.8600, 0.8714, 0.8686, 0.8513, 0.8224, 0.7895, 0.7644, 0.7542, 0.7530,\n",
      "         0.7486, 0.7337, 0.7077, 0.6789, 0.6631, 0.6707, 0.6920, 0.7110, 0.7190,\n",
      "         0.7146, 0.7013, 0.6856, 0.6745, 0.6704, 0.6695, 0.6666, 0.6590, 0.6482,\n",
      "         0.6390, 0.6361, 0.6406, 0.6498, 0.6610, 0.6738, 0.6890, 0.7070, 0.7258,\n",
      "         0.7414, 0.7497, 0.7478, 0.7355, 0.7176, 0.7060, 0.7128, 0.7360, 0.7617,\n",
      "         0.7788, 0.7823, 0.7714, 0.7482, 0.7192, 0.6967, 0.6930, 0.7074, 0.7286,\n",
      "         0.7481, 0.7638, 0.7768, 0.7870, 0.7924, 0.7905, 0.7805, 0.7654, 0.7516,\n",
      "         0.7462, 0.7495, 0.7555, 0.7577, 0.7532, 0.7433, 0.7310, 0.7182, 0.7037,\n",
      "         0.6836, 0.6544, 0.6157, 0.5750, 0.5536, 0.5722, 0.6204, 0.6745, 0.7222,\n",
      "         0.7600, 0.7875, 0.8049, 0.8126, 0.8109, 0.8005, 0.7832, 0.7618, 0.7410,\n",
      "         0.7262, 0.7215, 0.7273, 0.7405, 0.7570, 0.7729, 0.7855, 0.7926, 0.7925,\n",
      "         0.7841, 0.7667, 0.7408, 0.7089, 0.6768, 0.6543, 0.6499, 0.6627, 0.6836,\n",
      "         0.7046, 0.7222, 0.7357, 0.7454, 0.7506, 0.7500, 0.7428, 0.7299, 0.7147,\n",
      "         0.7028, 0.6988, 0.7026, 0.7106, 0.7193, 0.7266, 0.7315, 0.7335, 0.7319,\n",
      "         0.7270, 0.7203, 0.7141, 0.7107, 0.7105, 0.7113, 0.7102, 0.7045, 0.6933,\n",
      "         0.6780, 0.6616, 0.6478, 0.6380, 0.6306, 0.6230, 0.6134, 0.6020, 0.5893,\n",
      "         0.5757, 0.5619, 0.5495, 0.5407, 0.5358, 0.5319, 0.5261, 0.5186, 0.5136,\n",
      "         0.5148, 0.5211, 0.5267, 0.5260, 0.5159, 0.4961, 0.4676, 0.4334, 0.3972,\n",
      "         0.3625, 0.3326, 0.3130, 0.3114, 0.3294, 0.3562, 0.3795, 0.3933, 0.3973,\n",
      "         0.3944, 0.3875, 0.3785, 0.3677, 0.3553, 0.3436, 0.3371, 0.3403, 0.3543,\n",
      "         0.3751, 0.3965, 0.4135, 0.4233, 0.4244, 0.4162, 0.3981, 0.3708, 0.3371,\n",
      "         0.3033, 0.2773, 0.2649, 0.2683, 0.2867, 0.3156, 0.3467, 0.3720, 0.3875,\n",
      "         0.3921, 0.3877, 0.3777, 0.3663, 0.3560, 0.3458, 0.3324, 0.3138, 0.2937,\n",
      "         0.2829, 0.2908, 0.3122, 0.3339, 0.3462, 0.3458, 0.3342, 0.3183, 0.3115,\n",
      "         0.3243, 0.3512, 0.3780, 0.3952, 0.4002, 0.3940, 0.3798, 0.3619, 0.3460,\n",
      "         0.3385, 0.3426, 0.3547, 0.3665, 0.3713, 0.3669, 0.3551, 0.3410, 0.3301,\n",
      "         0.3251, 0.3248, 0.3271, 0.3314, 0.3390, 0.3509, 0.3662, 0.3820, 0.3939,\n",
      "         0.3982, 0.3926, 0.3770, 0.3534, 0.3261, 0.3007, 0.2822, 0.2747, 0.2806,\n",
      "         0.2980, 0.3203, 0.3407, 0.3556, 0.3646, 0.3692, 0.3699, 0.3663, 0.3579,\n",
      "         0.3459, 0.3334, 0.3241, 0.3199, 0.3196, 0.3210, 0.3229, 0.3248, 0.3262,\n",
      "         0.3268, 0.3264, 0.3244, 0.3198, 0.3120, 0.3021, 0.2942, 0.2937, 0.3039,\n",
      "         0.3229, 0.3462, 0.3697, 0.3906, 0.4069, 0.4170, 0.4194, 0.4131, 0.3979,\n",
      "         0.3756, 0.3517, 0.3354, 0.3334, 0.3422, 0.3526, 0.3582, 0.3575, 0.3540,\n",
      "         0.3528, 0.3571, 0.3660, 0.3755, 0.3820, 0.3839, 0.3814, 0.3761, 0.3700,\n",
      "         0.3648, 0.3615, 0.3609, 0.3630, 0.3671, 0.3711, 0.3726, 0.3696, 0.3618,\n",
      "         0.3502, 0.3367, 0.3232, 0.3113, 0.3033, 0.3021, 0.3108, 0.3296, 0.3563,\n",
      "         0.3866, 0.4157, 0.4393, 0.4541, 0.4588, 0.4536, 0.4411, 0.4259, 0.4134,\n",
      "         0.4075, 0.4090, 0.4156, 0.4235, 0.4296, 0.4322, 0.4318, 0.4303]])\n"
     ]
    }
   ],
   "source": [
    "print(test_loader.dataset[0]['spectrum'])"
   ]
  },
  {
   "cell_type": "code",
   "execution_count": 6,
   "metadata": {},
   "outputs": [
    {
     "name": "stdout",
     "output_type": "stream",
     "text": [
      "CNNVAE(\n",
      "  (signal_encoder): Sequential(\n",
      "    (0): Conv1d(1, 16, kernel_size=(3,), stride=(1,), padding=(1,))\n",
      "    (1): ReLU()\n",
      "    (2): MaxPool1d(kernel_size=2, stride=2, padding=0, dilation=1, ceil_mode=False)\n",
      "    (3): Conv1d(16, 32, kernel_size=(3,), stride=(1,), padding=(1,))\n",
      "    (4): ReLU()\n",
      "    (5): MaxPool1d(kernel_size=2, stride=2, padding=0, dilation=1, ceil_mode=False)\n",
      "  )\n",
      "  (spectrum_encoder): Sequential(\n",
      "    (0): Conv1d(1, 16, kernel_size=(3,), stride=(1,), padding=(1,))\n",
      "    (1): ReLU()\n",
      "    (2): MaxPool1d(kernel_size=2, stride=2, padding=0, dilation=1, ceil_mode=False)\n",
      "    (3): Conv1d(16, 32, kernel_size=(3,), stride=(1,), padding=(1,))\n",
      "    (4): ReLU()\n",
      "    (5): MaxPool1d(kernel_size=2, stride=2, padding=0, dilation=1, ceil_mode=False)\n",
      "  )\n",
      "  (fc): Sequential(\n",
      "    (0): Linear(in_features=12800, out_features=128, bias=True)\n",
      "    (1): ReLU()\n",
      "  )\n",
      "  (decoder_fc): Sequential(\n",
      "    (0): Linear(in_features=128, out_features=6400, bias=True)\n",
      "    (1): ReLU()\n",
      "  )\n",
      "  (signal_decoder): Sequential(\n",
      "    (0): ConvTranspose1d(32, 16, kernel_size=(2,), stride=(2,))\n",
      "    (1): ReLU()\n",
      "    (2): ConvTranspose1d(16, 1, kernel_size=(2,), stride=(2,))\n",
      "  )\n",
      "  (spectrum_decoder): Sequential(\n",
      "    (0): ConvTranspose1d(32, 16, kernel_size=(2,), stride=(2,))\n",
      "    (1): ReLU()\n",
      "    (2): ConvTranspose1d(16, 1, kernel_size=(2,), stride=(2,))\n",
      "  )\n",
      "  (fc_mu): Sequential(\n",
      "    (0): Linear(in_features=128, out_features=128, bias=True)\n",
      "    (1): ReLU()\n",
      "  )\n",
      "  (fc_logvar): Sequential(\n",
      "    (0): Linear(in_features=128, out_features=128, bias=True)\n",
      "    (1): ReLU()\n",
      "  )\n",
      ")\n"
     ]
    }
   ],
   "source": [
    "print(model)"
   ]
  },
  {
   "cell_type": "code",
   "execution_count": 7,
   "metadata": {},
   "outputs": [],
   "source": [
    "def test_model(model, test_loader):\n",
    "    model.eval()\n",
    "    reconstruction_errors = []\n",
    "    all_true_labels = []\n",
    "\n",
    "    with torch.no_grad():\n",
    "        for batch in test_loader:\n",
    "            signal = batch['signal'].to(model.device)\n",
    "            spectrum = batch['spectrum'].to(model.device)\n",
    "            labels = batch['label'].cpu().numpy()\n",
    "\n",
    "            # Forward pass\n",
    "            if isinstance(model, AE):\n",
    "                recon_signal, recon_spectrum = model(signal, spectrum)\n",
    "            elif isinstance(model, VAE):\n",
    "                recon_signal, recon_spectrum, _, _ = model(signal, spectrum)\n",
    "            else:\n",
    "                raise ValueError(\"Model must be an instance of AE or VAE\")\n",
    "\n",
    "            # Calculate combined reconstruction error\n",
    "            error_signal = torch.mean(\n",
    "                (recon_signal - signal)**2, dim=[1, 2]).cpu().numpy()\n",
    "            error_spectrum = torch.mean(\n",
    "                (recon_spectrum - spectrum)**2, dim=[1, 2]).cpu().numpy()\n",
    "            total_error = error_signal + error_spectrum\n",
    "\n",
    "            reconstruction_errors.extend(total_error)\n",
    "            all_true_labels.extend(labels)\n",
    "\n",
    "    reconstruction_errors = np.array(reconstruction_errors)\n",
    "    all_true_labels = np.array(all_true_labels)\n",
    "\n",
    "    # Calculate metrics\n",
    "    threshold = np.percentile(reconstruction_errors, 55)\n",
    "    predicted_labels = (reconstruction_errors > threshold).astype(int)\n",
    "\n",
    "    fpr, tpr, _ = roc_curve(all_true_labels, reconstruction_errors)\n",
    "    roc_auc_val = auc(fpr, tpr)\n",
    "\n",
    "    return {\n",
    "        'reconstruction_errors': reconstruction_errors,\n",
    "        'predicted_labels': predicted_labels,\n",
    "        'threshold': threshold,\n",
    "        'fpr': fpr,\n",
    "        'tpr': tpr,\n",
    "        'roc_auc': roc_auc_val,\n",
    "        'confusion_matrix': confusion_matrix(all_true_labels, predicted_labels),\n",
    "        'classification_report': classification_report(all_true_labels, predicted_labels,\n",
    "                                                       target_names=['Interference-free', 'Interference'])\n",
    "    }"
   ]
  },
  {
   "cell_type": "code",
   "execution_count": 8,
   "metadata": {},
   "outputs": [
    {
     "name": "stdout",
     "output_type": "stream",
     "text": [
      "reconstruction_errors \n",
      " [0.01837443 0.01840587 0.04183866 ... 0.02397165 0.04534194 0.08380382]\n",
      "predicted_labels \n",
      " [0 0 1 ... 0 1 1]\n",
      "threshold \n",
      " 0.029634910169988878\n",
      "fpr \n",
      " [0.       0.       0.       ... 0.660746 0.660746 1.      ]\n",
      "tpr \n",
      " [0.00000000e+00 4.50856628e-04 3.25518485e-01 ... 9.99549143e-01\n",
      " 1.00000000e+00 1.00000000e+00]\n",
      "roc_auc \n",
      " 0.8865106579944168\n",
      "confusion_matrix \n",
      " [[1871  381]\n",
      " [ 587 1631]]\n",
      "classification_report \n",
      "                    precision    recall  f1-score   support\n",
      "\n",
      "Interference-free       0.76      0.83      0.79      2252\n",
      "     Interference       0.81      0.74      0.77      2218\n",
      "\n",
      "         accuracy                           0.78      4470\n",
      "        macro avg       0.79      0.78      0.78      4470\n",
      "     weighted avg       0.79      0.78      0.78      4470\n",
      "\n"
     ]
    }
   ],
   "source": [
    "result = test_model(model, test_loader)\n",
    "for key, value in result.items():\n",
    "    print(key, '\\n', value)"
   ]
  },
  {
   "cell_type": "code",
   "execution_count": 12,
   "metadata": {},
   "outputs": [
    {
     "data": {
      "image/png": "[encoded data removed]",
      "text/plain": [
       "<Figure size 350x262.5 with 1 Axes>"
      ]
     },
     "metadata": {},
     "output_type": "display_data"
    }
   ],
   "source": [
    "def plot_comparative_roc(results):\n",
    "    \"\"\"Plot ROC curve for CNN model\"\"\"\n",
    "    for model_name, metrics in results.items():\n",
    "        plt.plot(metrics['fpr'], metrics['tpr'],\n",
    "                 label=f'{model_name} (AUC = {metrics[\"roc_auc\"]:.4f})')\n",
    "\n",
    "    # plt.plot([0, 1], [0, 1], color='navy', lw=2,\n",
    "            #  linestyle='--', label='Random Guess')\n",
    "    # plt.xlim([-0.01, 1.0])\n",
    "    # plt.ylim([0.0, 1.05])\n",
    "    plt.xlabel('False Positive Rate')\n",
    "    plt.ylabel('True Positive Rate')\n",
    "    plt.title('ROC Curve')\n",
    "    plt.legend(loc=\"lower right\")\n",
    "    # plt.grid(True)\n",
    "    plt.show()\n",
    "\n",
    "plot_comparative_roc({'CNN AE': result})"
   ]
  },
  {
   "cell_type": "code",
   "execution_count": 15,
   "metadata": {},
   "outputs": [
    {
     "data": {
      "image/png": "[encoded data removed]",
      "text/plain": [
       "<Figure size 350x262.5 with 2 Axes>"
      ]
     },
     "metadata": {},
     "output_type": "display_data"
    }
   ],
   "source": [
    "import matplotlib.pyplot as plt\n",
    "import seaborn as sns\n",
    "import numpy as np\n",
    "\n",
    "def plot_comparative_confusion_matrices(results, normalize=True):\n",
    "    \"\"\"Plot normalized confusion matrices for CNN model.\"\"\"\n",
    "    for model_name, metrics in results.items():\n",
    "        cm = metrics['confusion_matrix']\n",
    "        \n",
    "        if normalize:\n",
    "            cm = cm.astype(np.float64) / cm.sum(axis=1, keepdims=True)  # Normalize by row (true class)\n",
    "\n",
    "        sns.heatmap(cm, annot=True, fmt=\".2f\" if normalize else \"d\", cmap='Blues',\n",
    "                    xticklabels=['Interference-free', 'Interference'],\n",
    "                    yticklabels=['Interference-free', 'Interference'])\n",
    "\n",
    "        plt.xlabel('Predicted')\n",
    "        plt.ylabel('Actual')\n",
    "        plt.title(f'{model_name} ($\\\\beta$={metrics[\"threshold\"]:.4f})')\n",
    "        plt.show()\n",
    "\n",
    "# Example usage:\n",
    "plot_comparative_confusion_matrices({'CNN VAE': result})\n"
   ]
  }
 ],
 "metadata": {
  "kernelspec": {
   "display_name": "comfyui",
   "language": "python",
   "name": "python3"
  },
  "language_info": {
   "codemirror_mode": {
    "name": "ipython",
    "version": 3
   },
   "file_extension": ".py",
   "mimetype": "text/x-python",
   "name": "python",
   "nbconvert_exporter": "python",
   "pygments_lexer": "ipython3",
   "version": "3.12.8"
  }
 },
 "nbformat": 4,
 "nbformat_minor": 2
}
